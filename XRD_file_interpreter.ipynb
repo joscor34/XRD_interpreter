{
 "cells": [
  {
   "cell_type": "markdown",
   "id": "6307c994-50c4-4975-a385-1a930cb4e9ff",
   "metadata": {},
   "source": [
    "# XRD File reader and plotter"
   ]
  },
  {
   "cell_type": "code",
   "execution_count": 1,
   "id": "48bcdd28-e81d-413c-b47b-2ab0d4fda83a",
   "metadata": {},
   "outputs": [],
   "source": [
    "# Importamos librerias necesarias para nuestro programa\n",
    "import pandas as pd\n",
    "import numpy as np\n",
    "import matplotlib.pyplot as plt\n",
    "import plotly.express as px"
   ]
  },
  {
   "cell_type": "markdown",
   "id": "cefdc142-e6a8-4991-8dea-7e32a433e547",
   "metadata": {},
   "source": [
    "---\n",
    "## Se lee el archivo crudo\n",
    "\n",
    "En esta parte del código se lee el archivo crudo proveniente del equipo de xrd y se trata para obtener una salida csv\n"
   ]
  },
  {
   "cell_type": "code",
   "execution_count": 2,
   "id": "959da386-e12b-43f2-b0ca-52de63c92222",
   "metadata": {},
   "outputs": [],
   "source": [
    "file = open('../SrTiO3.uxd', mode='r')\n",
    "\n",
    "content = file.read()\n",
    "\n",
    "partes_importantes = content.split(';')\n",
    "\n",
    "tabla_contenido = partes_importantes[7]\n",
    "\n",
    "titles = tabla_contenido[1:15]\n",
    "\n",
    "tabla_contenido = tabla_contenido.replace(titles, '2THETA, PSD\\n')\n",
    "tabla_contenido = tabla_contenido.replace('       ', ', ')\n",
    "\n",
    "file.close()"
   ]
  },
  {
   "cell_type": "markdown",
   "id": "2fd91d88-f94d-48d4-9f83-7c6a570cd6a4",
   "metadata": {},
   "source": [
    "---\n",
    "## Se convierte el archivo\n",
    "En esta parte del código el contenido del archivo crudo se convierte en un archivo CSV para posteriormete abrirlo con pandas"
   ]
  },
  {
   "cell_type": "code",
   "execution_count": 3,
   "id": "fd9cc55b-815e-4b55-be4f-819b196ef1e7",
   "metadata": {},
   "outputs": [],
   "source": [
    "output_file = open('data.csv', 'w')\n",
    "\n",
    "output_file.write(tabla_contenido)\n",
    "\n",
    "output_file.close()"
   ]
  },
  {
   "cell_type": "code",
   "execution_count": 4,
   "id": "3ae02cb9-1016-40d2-84ea-8120aa6b5943",
   "metadata": {},
   "outputs": [
    {
     "name": "stdout",
     "output_type": "stream",
     "text": [
      "Index([' 2THETA', ' PSD'], dtype='object')\n"
     ]
    },
    {
     "ename": "NameError",
     "evalue": "name 'data' is not defined",
     "output_type": "error",
     "traceback": [
      "\u001b[0;31m---------------------------------------------------------------------------\u001b[0m",
      "\u001b[0;31mNameError\u001b[0m                                 Traceback (most recent call last)",
      "Cell \u001b[0;32mIn[4], line 6\u001b[0m\n\u001b[1;32m      3\u001b[0m \u001b[38;5;28mprint\u001b[39m(df\u001b[38;5;241m.\u001b[39mcolumns)\n\u001b[1;32m      5\u001b[0m \u001b[38;5;66;03m# Create an interactive plot with Plotly\u001b[39;00m\n\u001b[0;32m----> 6\u001b[0m fig \u001b[38;5;241m=\u001b[39m px\u001b[38;5;241m.\u001b[39mbar(\u001b[43mdata\u001b[49m, x\u001b[38;5;241m=\u001b[39m\u001b[38;5;124m'\u001b[39m\u001b[38;5;124m 2THETA\u001b[39m\u001b[38;5;124m'\u001b[39m, y\u001b[38;5;241m=\u001b[39m\u001b[38;5;124m'\u001b[39m\u001b[38;5;124m PSD\u001b[39m\u001b[38;5;124m'\u001b[39m, labels\u001b[38;5;241m=\u001b[39m{\u001b[38;5;124m'\u001b[39m\u001b[38;5;124mName\u001b[39m\u001b[38;5;124m'\u001b[39m: \u001b[38;5;124m'\u001b[39m\u001b[38;5;124m2theta\u001b[39m\u001b[38;5;124m'\u001b[39m, \u001b[38;5;124m'\u001b[39m\u001b[38;5;124mValue\u001b[39m\u001b[38;5;124m'\u001b[39m: \u001b[38;5;124m'\u001b[39m\u001b[38;5;124mvalues\u001b[39m\u001b[38;5;124m'\u001b[39m}, title\u001b[38;5;241m=\u001b[39m\u001b[38;5;124m'\u001b[39m\u001b[38;5;124mInteractive Plot\u001b[39m\u001b[38;5;124m'\u001b[39m)\n\u001b[1;32m      7\u001b[0m fig\u001b[38;5;241m.\u001b[39mupdate_layout(xaxis\u001b[38;5;241m=\u001b[39m\u001b[38;5;28mdict\u001b[39m(\u001b[38;5;28mtype\u001b[39m\u001b[38;5;241m=\u001b[39m\u001b[38;5;124m'\u001b[39m\u001b[38;5;124mcategory\u001b[39m\u001b[38;5;124m'\u001b[39m))  \u001b[38;5;66;03m# Set x-axis type to category for categorical data\u001b[39;00m\n\u001b[1;32m      8\u001b[0m fig\u001b[38;5;241m.\u001b[39mshow()\n",
      "\u001b[0;31mNameError\u001b[0m: name 'data' is not defined"
     ]
    }
   ],
   "source": [
    "df = pd.read_csv('data.csv')\n",
    "\n",
    "print(df.columns)\n",
    "\n",
    "# Create an interactive plot with Plotly\n",
    "fig = px.bar(df, x=' 2THETA', y=' PSD', labels={'Name': '2theta', 'Value': 'values'}, title='Interactive Plot')\n",
    "fig.update_layout(xaxis=dict(type='category'))  # Set x-axis type to category for categorical data\n",
    "fig.show()\n",
    "\n",
    "#df.plot(x=' 2THETA', y=' PSD', kind='line')  # Change 'bar' to 'line' or other plot type if needed\n",
    "#plt.xlabel('2Theta')  # Label for the x-axis\n",
    "#plt.ylabel('PSD')  # Label for the y-axis\n",
    "#plt.title('XRD of SrTiO3')  # Title for the plot\n",
    "#plt.show()"
   ]
  },
  {
   "cell_type": "code",
   "execution_count": null,
   "id": "91ffc497-2384-4429-9c88-1472189b14c1",
   "metadata": {},
   "outputs": [],
   "source": []
  },
  {
   "cell_type": "code",
   "execution_count": null,
   "id": "8b1f133f-18de-4367-b47a-7c1107eacdec",
   "metadata": {},
   "outputs": [],
   "source": []
  }
 ],
 "metadata": {
  "kernelspec": {
   "display_name": "Python 3 (ipykernel)",
   "language": "python",
   "name": "python3"
  },
  "language_info": {
   "codemirror_mode": {
    "name": "ipython",
    "version": 3
   },
   "file_extension": ".py",
   "mimetype": "text/x-python",
   "name": "python",
   "nbconvert_exporter": "python",
   "pygments_lexer": "ipython3",
   "version": "3.11.4"
  }
 },
 "nbformat": 4,
 "nbformat_minor": 5
}
