{
 "cells": [
  {
   "cell_type": "markdown",
   "id": "6307c994-50c4-4975-a385-1a930cb4e9ff",
   "metadata": {},
   "source": [
    "# XRD File reader and plotter"
   ]
  },
  {
   "cell_type": "code",
   "execution_count": 79,
   "id": "48bcdd28-e81d-413c-b47b-2ab0d4fda83a",
   "metadata": {},
   "outputs": [],
   "source": [
    "# Importamos librerias necesarias para nuestro programa\n",
    "import pandas as pd\n",
    "import numpy as np\n",
    "import matplotlib.pyplot as plt\n",
    "import plotly.express as px\n",
    "import plotly.graph_objects as go  # Ensure plotly.graph_objects is imported\n",
    "import dash\n",
    "from dash import dcc, html\n",
    "from dash.dependencies import Input, Output"
   ]
  },
  {
   "cell_type": "markdown",
   "id": "4b6222b0-ff19-4daf-988a-a037697c0664",
   "metadata": {},
   "source": [
    "---"
   ]
  },
  {
   "cell_type": "markdown",
   "id": "5251bbf4-2f64-4525-a6d8-c9b94920c15c",
   "metadata": {},
   "source": [
    "## Creamos una app con Dash para manipular la gráfica de manera interactiva"
   ]
  },
  {
   "cell_type": "code",
   "execution_count": 80,
   "id": "cdbb624a-4b8c-477d-bf9d-e59ed675e1e3",
   "metadata": {},
   "outputs": [],
   "source": [
    "# Initialize Dash app\n",
    "app = dash.Dash(__name__)\n",
    "\n",
    "# Layout of the app\n",
    "app.layout = html.Div([\n",
    "    dcc.Input(id='y_position_input', type='number', value=0),  # Input box for y-position value\n",
    "    dcc.Graph(id='line-plot')  # Graph area\n",
    "])\n"
   ]
  },
  {
   "cell_type": "markdown",
   "id": "cefdc142-e6a8-4991-8dea-7e32a433e547",
   "metadata": {},
   "source": [
    "---\n",
    "## Se lee el archivo crudo\n",
    "\n",
    "En esta parte del código se lee el archivo crudo proveniente del equipo de xrd y se trata para obtener una salida csv\n"
   ]
  },
  {
   "cell_type": "code",
   "execution_count": 81,
   "id": "959da386-e12b-43f2-b0ca-52de63c92222",
   "metadata": {},
   "outputs": [],
   "source": [
    "file = open('../SrTiO3.uxd', mode='r')\n",
    "\n",
    "content = file.read()\n",
    "\n",
    "partes_importantes = content.split(';')\n",
    "\n",
    "tabla_contenido = partes_importantes[7]\n",
    "\n",
    "titles = tabla_contenido[1:15]\n",
    "\n",
    "tabla_contenido = tabla_contenido.replace(titles, '2THETA, PSD\\n')\n",
    "tabla_contenido = tabla_contenido.replace('       ', ', ')\n",
    "tabla_contenido = tabla_contenido.replace('      ', ', ')\n",
    "\n",
    "file.close()"
   ]
  },
  {
   "cell_type": "markdown",
   "id": "2fd91d88-f94d-48d4-9f83-7c6a570cd6a4",
   "metadata": {},
   "source": [
    "---\n",
    "## Se convierte el archivo\n",
    "En esta parte del código el contenido del archivo crudo se convierte en un archivo CSV para posteriormete abrirlo con pandas"
   ]
  },
  {
   "cell_type": "code",
   "execution_count": 82,
   "id": "fd9cc55b-815e-4b55-be4f-819b196ef1e7",
   "metadata": {},
   "outputs": [],
   "source": [
    "output_file = open('data.csv', 'w')\n",
    "\n",
    "output_file.write(tabla_contenido)\n",
    "\n",
    "output_file.close()"
   ]
  },
  {
   "cell_type": "code",
   "execution_count": 83,
   "id": "83439cda-c48e-42ed-8722-a55e39330e03",
   "metadata": {
    "scrolled": true
   },
   "outputs": [],
   "source": [
    "df = pd.read_csv('data.csv')\n",
    "\n",
    "y_position_value_global = 0\n",
    "beta_constant_value = 0\n",
    "\n",
    "@app.callback(\n",
    "    Output('line-plot', 'figure'),\n",
    "    [Input('y_position_input', 'value')]\n",
    ")\n",
    "def update_plot(y_position_value):\n",
    "    # Create an interactive plot\n",
    "\n",
    "    global y_position_value_global  # Se una la varibale de manera globar\n",
    "    y_position_value_global = y_position_value  # Se guardan los datos en la variable global\n",
    "\n",
    "    global beta_constant_value #Se una la varibale de manera globar\n",
    "    \n",
    "    fig = px.line(df, x=' 2THETA', y=' PSD', labels={'Name': '2theta', 'Value': 'values'}, title='SrTiO3 difractograma')\n",
    "    fig.update_traces(line=dict(color='blue')) \n",
    "   \n",
    "    # Add a line parallel to x-axis at y_position_value\n",
    "    fig.add_shape(\n",
    "        type='line',\n",
    "        x0=df[' 2THETA'].min(),\n",
    "        y0=y_position_value,\n",
    "        x1=df[' 2THETA'].max(),\n",
    "        y1=y_position_value,\n",
    "        line=dict(color='red', width=2, dash='solid'),\n",
    "    )\n",
    "\n",
    "    #-------------------------------------------------\n",
    "    #Se calcula la altura máxima en de la reflexión más grande:\n",
    "    altura_reflexion_max = max(df[' PSD'].values) - y_position_value_global\n",
    "\n",
    "    # Obtenemos la mitad de la distancia con de la reflexión mas grande usando el punto de referencia\n",
    "    given_PSD_value = altura_reflexion_max/2\n",
    "\n",
    "    # Se calcula la diferencia absoluta entre los dos valores dados y todos los datos de la columna PSD.\n",
    "    df['Absolute_Difference'] = abs(df[' PSD'] - given_PSD_value)\n",
    "\n",
    "    \n",
    "   # Encuentra la fila con la menor diferencia encontrada\n",
    "    closest_index = df['Absolute_Difference'].idxmin()\n",
    "\n",
    "    closest_2THETA_value = df.loc[closest_index, ' 2THETA']\n",
    "    closest_PSD_value = df.loc[closest_index, ' PSD']\n",
    "\n",
    "    # Encontramos el siguiente valor más cercano\n",
    "    next_upper_values = df[df[' PSD'] > given_PSD_value]\n",
    "    if not next_upper_values.empty:\n",
    "        next_upper_index = next_upper_values[' PSD'].idxmin()\n",
    "        next_upper_2THETA = df.loc[next_upper_index, ' 2THETA']\n",
    "        next_upper_PSD = df.loc[next_upper_index, ' PSD']\n",
    "    \n",
    "    #-------------------------------------------------\n",
    "    \n",
    "    # Agregamos dos puntos con las coordenadas de closes index y el promedio de 2theta en el next_upper_index y next_upper_index + 1\n",
    "    fig.add_trace(go.Scatter(x=[df[' 2THETA'][closest_index]], y=[df[' PSD'][closest_index]], mode='markers+text', text='Point A', textposition='bottom center', marker=dict(color='blue')))\n",
    "    fig.add_trace(go.Scatter(x=[((df[' 2THETA'][next_upper_index] + df[' 2THETA'][next_upper_index + 1])/2) + 0.003], y=[df[' PSD'][closest_index]], mode='markers+text', text='Point B', textposition='bottom center', marker=dict(color='red')))\n",
    "\n",
    "    # Se calcula la distancia con la formula euclidiana\n",
    "    distance = np.sqrt((df[' 2THETA'][closest_index] - (((df[' 2THETA'][next_upper_index] + df[' 2THETA'][next_upper_index + 1])/2) + 0.003))**2 + (df[' PSD'][closest_index] - df[' PSD'][closest_index])**2)\n",
    "\n",
    "\n",
    "    beta_constant_value = distance  #Se guardan los datos en la variable global\n",
    "    # Se agrega una anotación con esta distancia\n",
    "    fig.add_annotation(\n",
    "        x=(next_upper_2THETA + closest_2THETA_value)/2,\n",
    "        y=df[' PSD'][closest_index],\n",
    "        text=f'Distance: {distance:.5f}', # Ponemos la distancia con 3 puntos decimales\n",
    "        showarrow=True,\n",
    "        arrowhead=1,\n",
    "    )\n",
    "\n",
    "    return fig\n"
   ]
  },
  {
   "cell_type": "code",
   "execution_count": 84,
   "id": "17a9c8ef-162c-4266-8b2d-3090017104c5",
   "metadata": {},
   "outputs": [],
   "source": [
    "#update_plot(200)"
   ]
  },
  {
   "cell_type": "code",
   "execution_count": 85,
   "id": "07a72b3d-4db1-4c51-a3f8-91310264d98a",
   "metadata": {},
   "outputs": [
    {
     "data": {
      "text/html": [
       "\n",
       "        <iframe\n",
       "            width=\"100%\"\n",
       "            height=\"650\"\n",
       "            src=\"http://127.0.0.1:8050/\"\n",
       "            frameborder=\"0\"\n",
       "            allowfullscreen\n",
       "            \n",
       "        ></iframe>\n",
       "        "
      ],
      "text/plain": [
       "<IPython.lib.display.IFrame at 0x11fa35450>"
      ]
     },
     "metadata": {},
     "output_type": "display_data"
    }
   ],
   "source": [
    "# Run the app\n",
    "if __name__ == '__main__':\n",
    "    app.run_server(debug=True)"
   ]
  },
  {
   "cell_type": "code",
   "execution_count": 86,
   "id": "6e545ff9-7acd-414e-a78b-cacfab500bf9",
   "metadata": {},
   "outputs": [
    {
     "name": "stdout",
     "output_type": "stream",
     "text": [
      "0.3079500000000053\n"
     ]
    }
   ],
   "source": [
    "lista_de_angulos_2theta = df[' 2THETA'].values\n",
    "lista_de_angulos_theta = []\n",
    "print(beta_constant_value)\n",
    "for angulo in lista_de_angulos_2theta:\n",
    "    lista_de_angulos_theta.append(angulo/2)"
   ]
  },
  {
   "cell_type": "code",
   "execution_count": 186,
   "id": "8b1f133f-18de-4367-b47a-7c1107eacdec",
   "metadata": {},
   "outputs": [],
   "source": [
    "sen_angulos = []\n",
    "cos_angulos = []\n",
    "for angulo in lista_de_angulos_theta:\n",
    "    sen_angulos.append(np.sin(angulo))\n",
    "    cos_angulos.append(np.cos(angulo))"
   ]
  },
  {
   "cell_type": "code",
   "execution_count": null,
   "id": "8211435f-b251-4ae5-8ddc-e7e660806228",
   "metadata": {},
   "outputs": [],
   "source": []
  },
  {
   "cell_type": "code",
   "execution_count": null,
   "id": "2bfb4fde-d10b-410b-9489-e5d4e624fbd8",
   "metadata": {},
   "outputs": [],
   "source": []
  }
 ],
 "metadata": {
  "kernelspec": {
   "display_name": "Python 3 (ipykernel)",
   "language": "python",
   "name": "python3"
  },
  "language_info": {
   "codemirror_mode": {
    "name": "ipython",
    "version": 3
   },
   "file_extension": ".py",
   "mimetype": "text/x-python",
   "name": "python",
   "nbconvert_exporter": "python",
   "pygments_lexer": "ipython3",
   "version": "3.11.4"
  }
 },
 "nbformat": 4,
 "nbformat_minor": 5
}
